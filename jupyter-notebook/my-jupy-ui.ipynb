{
 "cells": [
  {
   "cell_type": "markdown",
   "id": "0bf5a03e",
   "metadata": {},
   "source": [
    "# Second Assignment of RTII course"
   ]
  },
  {
   "cell_type": "markdown",
   "id": "5eb41676",
   "metadata": {},
   "source": [
    "## User Interface node"
   ]
  },
  {
   "cell_type": "markdown",
   "id": "6e74b0e5",
   "metadata": {},
   "source": [
    "In this Jupyter notebook I have implemented an user interface useful to control the behavior of a robot, within  a simulated environment. Moreover the  node communicates with three different nodes:\n",
    "\n",
    "1. nodes go_to_point.py \n",
    "2. state_machine.cpp \n",
    "3. position_service.cpp \n",
    "\n",
    "They all are available within the **action** branch belonging to the package rt2_assignment1 \n",
    "Inside this notebook, different widgets and visualization methods have been employed to directly interact  with the robot simulation launched within Gazebo.\n"
   ]
  },
  {
   "cell_type": "markdown",
   "id": "c5690095",
   "metadata": {},
   "source": [
    "## How to run the code"
   ]
  },
  {
   "cell_type": "markdown",
   "id": "6aa34608",
   "metadata": {},
   "source": [
    "Within a new shell, please type:\n",
    "\n",
    "roslaunch rt2_assignment1 jupisim.launch\n",
    "\n",
    "Then open this jupiter notebook by running:\n",
    "\n",
    "jupyter notebook --allow-root --ip 0.0.0.0\n",
    "\n",
    "\n"
   ]
  },
  {
   "cell_type": "markdown",
   "id": "e9a73556",
   "metadata": {},
   "source": [
    "Here Below, needed headers are imported and global variables are initialized "
   ]
  },
  {
   "cell_type": "code",
   "execution_count": 1,
   "id": "379617f6",
   "metadata": {
    "ExecuteTime": {
     "end_time": "2021-06-19T15:50:12.689679Z",
     "start_time": "2021-06-19T15:49:53.232888Z"
    }
   },
   "outputs": [],
   "source": [
    "\n",
    "from ipywidgets import Button, Layout, ButtonStyle, GridBox, VBox, HBox\n",
    "import numpy as np\n",
    "import matplotlib.pyplot as plt\n",
    "import jupyros as jr\n",
    "import rospy\n",
    "import time\n",
    "import math\n",
    "from rt2_assignment1.srv import Command\n",
    "import actionlib\n",
    "import rt2_assignment1.msg\n",
    "from geometry_msgs.msg import Twist\n",
    "from matplotlib import animation, rc\n",
    "import ipywidgets as widgets\n",
    "from IPython.display import display\n",
    "from matplotlib import animation, rc\n",
    "from matplotlib.animation import FuncAnimation\n",
    "from nav_msgs.msg import Odometry\n",
    "from rt2_assignment1.msg import GoalReachingActionResult\n",
    "%matplotlib widget\n",
    "\n",
    "# initializing the node \n",
    "rospy.init_node('user_interface')\n",
    "# user_interface client for starting the  \"go to point behaviour\"\n",
    "ui_client = rospy.ServiceProxy('/user_interface', Command)\n",
    "# action client to cancel the action goal\n",
    "client = actionlib.SimpleActionClient('go_to_point', rt2_assignment1.msg.GoalReachingAction)\n",
    "# declaring a publisher of /cmd_vel topic for controlling the robot's velocity\n",
    "pub=rospy.Publisher('/cmd_vel', Twist, queue_size=1)\n",
    "time.sleep(10)\n",
    "\n",
    "# global variables initialization\n",
    "\n",
    "cancelled=0   # variable useful for counting the cancelled targets\n",
    "reached=0     # variable useful for counting the reached targets\n",
    "active=False  # boolean variable for checking the activation/deactivation status of the go_to_point behavior\n",
    "start_time=0  # variable for keeping track of the moment within which the robot starts reaching a goal \n",
    "stop_time=0   # variable for keeping track of the moment within which the robot stops reaching a goal\n",
    "data = list() # variable for plotting the histogram \n",
    "\n",
    "# Further global variables initialization \n",
    "\n",
    "clock = time.time()             # time offset\n",
    "time_plot = list(range(0, 10))  # variable useful for plotting the time coordinates \n",
    "odom_linear =list()             # variable for plotting the linear velocity retrieved by the /odom topic\n",
    "cmdvel_linear=list()            # variable for plotting the linear velocity retrieved by the /cmd_vel topic\n",
    "\n",
    "# \n",
    "\n",
    "odom_angular =list()            # variable for plotting the angular velocity retrieved by the /odom topic\n",
    "cmdvel_angular=list()           # variable for plotting the angular velocity retrieved by the /cmd_vel topic\n",
    "\n",
    "# \n",
    "\n",
    "x_data=list()                   # variable for plotting the x coordinate retrieved by the /odom topic \n",
    "y_data=list()                   # variable for plotting the y coordinate retrieved by the /odom topic\n",
    "\n",
    "# Variables for storing the orientation\n",
    "\n",
    "dx=0\n",
    "dy=1"
   ]
  },
  {
   "cell_type": "markdown",
   "id": "bf066165",
   "metadata": {},
   "source": [
    "## The goal reaching behavior "
   ]
  },
  {
   "cell_type": "markdown",
   "id": "e7089749",
   "metadata": {},
   "source": [
    "The ```go_to_point``` behavior can be directly activated and deactivated by the user. He/she has just to click on the **START** or **STOP** button. Indeed, according to the```on_click``` method, each time a button is clicked, the clbk gets executed. \n",
    "Actually, this is the reason why the service client is called inside the callback of the **START** button. Otherwise, inside the callback of the **STOP** button, the robot is at first stopped, publishing a zero velocity on ```/cmd_vel```. Then, the action client is called so that all the goals could be cancelled"
   ]
  },
  {
   "cell_type": "code",
   "execution_count": 2,
   "id": "32c439cc",
   "metadata": {
    "ExecuteTime": {
     "end_time": "2021-06-19T15:50:13.152250Z",
     "start_time": "2021-06-19T15:50:12.694065Z"
    }
   },
   "outputs": [],
   "source": [
    "\n",
    "button_start = widgets.Button(description=\"START\",layout=widgets.Layout(widht='auto',grid_area='b1'),\n",
    "                style=widgets.ButtonStyle(button_color='green') )\n",
    "\n",
    "button_stop = widgets.Button(description=\"STOP\",  layout=widgets.Layout(width='auto', grid_area='b2'),\n",
    "                    style=widgets.ButtonStyle(button_color='red'))\n",
    "\n",
    "\n",
    "\n",
    "def clicked_start(b): \n",
    "     global start_time\n",
    "     global active\n",
    "     global count\n",
    "     #call the service client\n",
    "     ui_client(\"start\")      \n",
    "     active=True\n",
    "     take=False\n",
    "     start_time=time.time()\n",
    "     \n",
    "     \n",
    "        \n",
    "def clicked_stop(b):\n",
    "     global cancelled\n",
    "     global stop_time\n",
    "     global active\n",
    "     global data\n",
    "     # call the action client\n",
    "     client.cancel_all_goals()\n",
    "     twist_msg = Twist()\n",
    "     twist_msg.linear.x = 0\n",
    "     twist_msg.linear.y = 0\n",
    "     twist_msg.angular.z = 0\n",
    "     # publish a zero velocity\n",
    "     pub.publish(twist_msg)\n",
    "     ui_client(\"stop\")\n",
    "     if active==True:\n",
    "         cancelled = cancelled + 1 \n",
    "         active=False\n",
    "         stop_time=time.time()\n",
    "         data.append(stop_time-start_time)\n",
    " \n",
    "# on click method\n",
    "\n",
    "button_start.on_click(clicked_start)\n",
    "button_stop.on_click(clicked_stop)"
   ]
  },
  {
   "cell_type": "code",
   "execution_count": 3,
   "id": "ca532922",
   "metadata": {
    "ExecuteTime": {
     "end_time": "2021-06-19T15:50:13.677088Z",
     "start_time": "2021-06-19T15:50:13.229889Z"
    }
   },
   "outputs": [
    {
     "data": {
      "application/vnd.jupyter.widget-view+json": {
       "model_id": "6742010726284127bef2b4f87e2ebbe6",
       "version_major": 2,
       "version_minor": 0
      },
      "text/plain": [
       "GridBox(children=(Button(description='START', layout=Layout(grid_area='b1'), style=ButtonStyle(button_color='g…"
      ]
     },
     "metadata": {},
     "output_type": "display_data"
    }
   ],
   "source": [
    "# GridBox is used for displaying buttons \n",
    "widgets.GridBox(children=[button_start,button_stop],\n",
    "                layout=widgets.Layout(width='80%',grid_template_rows='auto auto auto',\n",
    "                grid_template_columns='16% 16% 16% 16% 16% 16% ',\n",
    "                grid_template_areas='''\"b1 b2 . . . \"''')\n",
    "               )"
   ]
  },
  {
   "cell_type": "markdown",
   "id": "337e670b",
   "metadata": {
    "ExecuteTime": {
     "end_time": "2021-06-19T10:56:51.372380Z",
     "start_time": "2021-06-19T10:56:51.364827Z"
    }
   },
   "source": [
    "# Employed Callbacks \n",
    "\n",
    "## `reached_goal_clb` callback"
   ]
  },
  {
   "cell_type": "markdown",
   "id": "da1940e7",
   "metadata": {},
   "source": [
    "This latter, belonging to the ```/go_to_point/result``` topic, gets executed only once a goal is reached. \n",
    "Then, some variables meant at visualization purposes, get updated"
   ]
  },
  {
   "cell_type": "code",
   "execution_count": 4,
   "id": "dd60b2df",
   "metadata": {
    "ExecuteTime": {
     "end_time": "2021-06-19T15:50:24.685466Z",
     "start_time": "2021-06-19T15:50:24.376878Z"
    }
   },
   "outputs": [
    {
     "data": {
      "application/vnd.jupyter.widget-view+json": {
       "model_id": "1070fcd763774b55ac3c947e556f6263",
       "version_major": 2,
       "version_minor": 0
      },
      "text/plain": [
       "VBox(children=(HBox(children=(Button(description='Stop', style=ButtonStyle()),)), Output(layout=Layout(border=…"
      ]
     },
     "metadata": {},
     "output_type": "display_data"
    }
   ],
   "source": [
    "def reached_goal_clb(msg):\n",
    "    \"\"\"\n",
    "    reached_goal_clb function\n",
    "    \n",
    "    Here, some variables have been initialized  for\n",
    "    knowing the starting and the ending instants of \n",
    "    the robot movement during the achievement of a\n",
    "    certain goal. Moreover, an array (data) has been\n",
    "    introduced for storing the amount of time spent\n",
    "    for reaching it. Indeed, every time a newer goal \n",
    "    gets reached, the difference between the starting \n",
    "    and the ending istants, is added to the array\n",
    "\n",
    "   \"\"\"\n",
    "    global reached\n",
    "    global start_time,stop_time\n",
    "    global data \n",
    "    stop_time=time.time()\n",
    "    data.append(stop_time-start_time)\n",
    "    start_time=time.time()\n",
    "    reached = reached+1\n",
    "  \n",
    "\n",
    "jr.subscribe('/go_to_point/result',GoalReachingActionResult, reached_goal_clb)"
   ]
  },
  {
   "cell_type": "markdown",
   "id": "95c79747",
   "metadata": {},
   "source": [
    "## `clb_odom` callback\n",
    "\n",
    "This is the /odom callback, employed for getting back values about: \n",
    "* **The x and y coordinates** of the robot position: for updating the position array \n",
    "* The **linear and angular velocity** along **x** and around **z**, respectively: for updating the arrays aimed at representing the linear and angular plots\n",
    "* **The quaternion**: for computing the orientation values \n",
    "Once the yaw has been computed by the `euler_from_quaternion` function, it gets normailzed in a value included between -$\\pi$ and +$\\pi$. To conclude with, `dx`and `dy`variables, have been stored with the cosine and sine  of the normalized yaw value."
   ]
  },
  {
   "cell_type": "code",
   "execution_count": 5,
   "id": "58475c9c",
   "metadata": {
    "ExecuteTime": {
     "end_time": "2021-06-19T15:50:30.551863Z",
     "start_time": "2021-06-19T15:50:29.948177Z"
    }
   },
   "outputs": [
    {
     "data": {
      "application/vnd.jupyter.widget-view+json": {
       "model_id": "041b32faf3bd4c1ebb29475da6dd7138",
       "version_major": 2,
       "version_minor": 0
      },
      "text/plain": [
       "VBox(children=(HBox(children=(Button(description='Stop', style=ButtonStyle()),)), Output(layout=Layout(border=…"
      ]
     },
     "metadata": {},
     "output_type": "display_data"
    }
   ],
   "source": [
    "def normalize_angle(angle):\n",
    "    '''\n",
    "    Function aimed at transforming an angle within a specified\n",
    "    interval of values (-pi,pi)\n",
    "    \n",
    "    '''\n",
    "    if(math.fabs(angle) > math.pi):\n",
    "        angle = angle - (2 * math.pi * angle) / (math.fabs(angle))\n",
    "    return angle\n",
    "\n",
    "def euler_from_quaternion(x, y, z, w):\n",
    "    '''\n",
    "    Function aimed at converting a quaternion into euler angles \n",
    "    (roll, pitch and yaw). \n",
    "    \n",
    "    '''\n",
    "    t0 = +2.0 * (w * x + y * z)\n",
    "    t1 = +1.0 - 2.0 * (x * x + y * y)\n",
    "    roll_x = math.atan2(t0, t1)\n",
    "     \n",
    "    t2 = +2.0 * (w * y - z * x)\n",
    "    t2 = +1.0 if t2 > +1.0 else t2\n",
    "    t2 = -1.0 if t2 < -1.0 else t2\n",
    "    pitch_y = math.asin(t2)\n",
    "     \n",
    "    t3 = +2.0 * (w * z + x * y)\n",
    "    t4 = +1.0 - 2.0 * (y * y + z * z)\n",
    "    yaw_z = math.atan2(t3, t4)\n",
    "     \n",
    "    return roll_x, pitch_y, yaw_z \n",
    "\n",
    "\n",
    "\n",
    "def clb_odom(msg):\n",
    "    '''\n",
    "    Callback function for the /odom topic\n",
    "    '''\n",
    "    global time_plot, odom_linear, odom_angular\n",
    "    global x_data, y_data\n",
    "    global dx, dy\n",
    "    \n",
    "    if len(time_plot)>10:                       # controlling the plot time_plot size\n",
    "      time_plot.pop(0)\n",
    "     \n",
    "    if len(odom_linear)>10:                     # controlling the odom_linear size \n",
    "      odom_linear.pop(0)\n",
    "    \n",
    "    y_1 = np.float32(msg.twist.twist.linear.x)  # retrieve the linear velocity\n",
    "    x_1 = np.float32(time.time()-clock)         # updating the timeline     \n",
    "    \n",
    "    # Updating arrays\n",
    "    \n",
    "    odom_linear.append(y_1)                     \n",
    "    time_plot.append(x_1)\n",
    "     \n",
    "    if len(odom_angular)>10:\n",
    "      odom_angular.pop(0)\n",
    "    y_2 = np.float32(msg.twist.twist.angular.z)  # rertrieve the angular velocity\n",
    "    odom_angular.append(y_2)\n",
    "    \n",
    "    \n",
    "    if len(x_data)>50:                           # controlling the x_data size \n",
    "      x_data.pop(0)\n",
    "      \n",
    "    if len(y_data)>50:                           # controlling the y_data size \n",
    "      y_data.pop(0)\n",
    "    \n",
    "    # Retrieving position values\n",
    "    \n",
    "    y_3 = np.float32(msg.pose.pose.position.y)\n",
    "    x_3 = np.float32(msg.pose.pose.position.x)\n",
    "    y_data.append(y_3)\n",
    "    x_data.append(x_3)\n",
    "    \n",
    "    # quaternion initialization\n",
    "    \n",
    "    quaternion = (\n",
    "        msg.pose.pose.orientation.x,\n",
    "        msg.pose.pose.orientation.y,\n",
    "        msg.pose.pose.orientation.z,\n",
    "        msg.pose.pose.orientation.w)\n",
    "    \n",
    "    # filling euler variable with Euler angles \n",
    "    euler = euler_from_quaternion(quaternion[0],quaternion[1],quaternion[2],quaternion[3])\n",
    "    \n",
    "    # getting the yaw value (the one we are interested in)\n",
    "    yaw_ = euler[2]\n",
    "    \n",
    "    # yaw angle normalization\n",
    "    normalized_yaw=normalize_angle(yaw_)\n",
    "    \n",
    "    # x and y yaw components for representing orientation\n",
    "    dx=math.cos(normalized_yaw)\n",
    "    dy=math.sin(normalized_yaw)\n",
    "    \n",
    "# odom clbk\n",
    "jr.subscribe('/odom',Odometry, clb_odom)"
   ]
  },
  {
   "cell_type": "markdown",
   "id": "cd5a2e37",
   "metadata": {},
   "source": [
    "## `clb_cmdvel` callback\n",
    "\n",
    "Within this callback, newer linear and angular velocities' values are employed to update arrays whose size is limited to 10. This has been necessary for plotting purposes."
   ]
  },
  {
   "cell_type": "code",
   "execution_count": 6,
   "id": "166e798f",
   "metadata": {
    "ExecuteTime": {
     "end_time": "2021-06-19T15:50:34.672281Z",
     "start_time": "2021-06-19T15:50:33.742878Z"
    }
   },
   "outputs": [
    {
     "data": {
      "application/vnd.jupyter.widget-view+json": {
       "model_id": "15e0d08c040e4544a1bc6548d14a4f18",
       "version_major": 2,
       "version_minor": 0
      },
      "text/plain": [
       "VBox(children=(HBox(children=(Button(description='Stop', style=ButtonStyle()),)), Output(layout=Layout(border=…"
      ]
     },
     "metadata": {},
     "output_type": "display_data"
    }
   ],
   "source": [
    "def clb_cmdvel(msg):\n",
    "    global cmdvel_linear, cmdvel_angular\n",
    "    if len(cmdvel_linear)>10:       # controlling the array size\n",
    "      cmdvel_linear.pop(0)\n",
    "    y_4 = np.float32(msg.linear.x)  # get value\n",
    "    cmdvel_linear.append(y_4)       # update the cmdvel_linear array\n",
    "    \n",
    "    if len(cmdvel_angular)>10:      # controlling the array size  \n",
    "      cmdvel_angular.pop(0)   \n",
    "    y_5 = np.float32(msg.angular.z) # get value\n",
    "    cmdvel_angular.append(y_5)      # update the cmdvel_angular array\n",
    "    \n",
    "# subscritption\n",
    "jr.subscribe('/cmd_vel', Twist, clb_cmdvel)"
   ]
  },
  {
   "cell_type": "markdown",
   "id": "09361849",
   "metadata": {},
   "source": [
    "## Set velocity through sliders"
   ]
  },
  {
   "cell_type": "markdown",
   "id": "61fdcfc5",
   "metadata": {},
   "source": [
    "Here below are inserted two **sliders**. The user can chose a linear or angular velocity between **-1** and **1**. Then, the chosen value is directly published on ```/cmd_vel```, so that the robot could be piloted "
   ]
  },
  {
   "cell_type": "code",
   "execution_count": 7,
   "id": "4cc0cd4d",
   "metadata": {
    "ExecuteTime": {
     "end_time": "2021-06-19T15:50:40.148421Z",
     "start_time": "2021-06-19T15:50:39.720939Z"
    }
   },
   "outputs": [
    {
     "data": {
      "application/vnd.jupyter.widget-view+json": {
       "model_id": "b5297eb0e0ba49a0a2fd9b6e6634921b",
       "version_major": 2,
       "version_minor": 0
      },
      "text/plain": [
       "FloatSlider(value=0.0, description='Linear Velocity', max=1.0, min=-1.0, style=SliderStyle(handle_color='salmo…"
      ]
     },
     "metadata": {},
     "output_type": "display_data"
    },
    {
     "data": {
      "application/vnd.jupyter.widget-view+json": {
       "model_id": "c830b2c883a34e18b654193cff59b5a1",
       "version_major": 2,
       "version_minor": 0
      },
      "text/plain": [
       "FloatSlider(value=0.0, description='Angular Velocity', max=1.0, min=-1.0, style=SliderStyle(handle_color='salm…"
      ]
     },
     "metadata": {},
     "output_type": "display_data"
    }
   ],
   "source": [
    "msg = Twist()\n",
    "\n",
    "a = widgets.FloatSlider(description='Linear Velocity' ,min=-1.0, max=1.0)\n",
    "a.style.handle_color = 'salmon'\n",
    "display(a)\n",
    "\n",
    "b = widgets.FloatSlider(description='Angular Velocity',min=-1.0, max=1.0)\n",
    "b.style.handle_color = 'salmon'\n",
    "display(b)\n",
    "\n",
    "\n",
    "def on_value_change(change):\n",
    "    global msg\n",
    "    msg.linear.x = change['new']\n",
    "    pub.publish(msg)\n",
    "    \n",
    "def on_valueang_change(change):\n",
    "    global msg\n",
    "    msg.angular.z = change['new']\n",
    "    pub.publish(msg)\n",
    "\n",
    "a.observe(on_value_change, names='value')\n",
    "b.observe(on_valueang_change, names='value')"
   ]
  },
  {
   "cell_type": "markdown",
   "id": "ea0e2fc4",
   "metadata": {},
   "source": [
    "## Pilot the robot"
   ]
  },
  {
   "cell_type": "markdown",
   "id": "ea479f2c",
   "metadata": {},
   "source": [
    "The user will be able to control the robot through the five buttons reported below. Then, Inside each button's clbk:\n",
    "1. `stop()` function is called for stopping the ```go_to_point``` behavior, and **cancel** goals if any. \n",
    "2. Secondly,for each button, a specific **Twist()** message is published, according to user's preferences "
   ]
  },
  {
   "cell_type": "code",
   "execution_count": 8,
   "id": "40316ff0",
   "metadata": {
    "ExecuteTime": {
     "end_time": "2021-06-19T15:50:45.954095Z",
     "start_time": "2021-06-19T15:50:45.281335Z"
    }
   },
   "outputs": [],
   "source": [
    "\n",
    "BF = widgets.Button(description=\"GO FORWARD\",layout=Layout(width='auto', grid_area='BF'),\n",
    "style=ButtonStyle(button_color='yellow'))\n",
    "\n",
    "BL = widgets.Button(description=\"TURN LEFT\",layout=Layout(width='auto', grid_area='BL'),\n",
    "style=ButtonStyle(button_color='yellow'))\n",
    "\n",
    "BB = widgets.Button(description=\"GO BACKWARD\",layout=Layout(width='auto', grid_area='BB'),\n",
    "style=ButtonStyle(button_color='yellow'))\n",
    "\n",
    "BR = widgets.Button(description=\"TURN RIGHT\",layout=Layout(width='auto', grid_area='BR'),\n",
    "style=ButtonStyle(button_color='yellow'))\n",
    "\n",
    "BS = widgets.Button(description=\"STOP\",layout=Layout(width='auto', grid_area='BS'),\n",
    "style=ButtonStyle(button_color='red'))\n",
    "\n",
    "\n",
    "\n",
    "def stop():\n",
    "     global cancelled\n",
    "     global stop_time\n",
    "     global active\n",
    "     global data\n",
    "     client.cancel_all_goals()       # cancel the goal\n",
    "     twist_msg = Twist()\n",
    "     twist_msg.linear.x = 0\n",
    "     twist_msg.linear.y = 0\n",
    "     twist_msg.angular.z = 0\n",
    "     pub.publish(twist_msg)          # publish a twist message \n",
    "     ui_client(\"stop\")\n",
    "     if active==True:\n",
    "         cancelled = cancelled + 1   # increase the cancel variable\n",
    "         active=False\n",
    "         stop_time=time.time()       # update the stop time instant\n",
    "         # new cell added to the data array \n",
    "         data.append(stop_time-start_time)\n",
    "        \n",
    "def click_BF(f):\n",
    "     stop()\n",
    "     twist_msg = Twist()\n",
    "     twist_msg.linear.x = 1\n",
    "     twist_msg.linear.y=0\n",
    "     twist_msg.angular.z = 0\n",
    "     pub.publish(twist_msg)\n",
    "        \n",
    "def click_BL(f):\n",
    "     stop()\n",
    "     twist_msg = Twist()\n",
    "     twist_msg.linear.x = 0\n",
    "     twist_msg.linear.y=0\n",
    "     twist_msg.angular.z = 1\n",
    "     pub.publish(twist_msg)\n",
    "        \n",
    "def click_BR(f):\n",
    "     stop()\n",
    "     twist_msg = Twist()\n",
    "     twist_msg.linear.x = 0\n",
    "     twist_msg.linear.y=0\n",
    "     twist_msg.angular.z = -1\n",
    "     pub.publish(twist_msg)\n",
    "        \n",
    "def click_BB(f):\n",
    "     stop()\n",
    "     twist_msg = Twist()\n",
    "     twist_msg.linear.x = -1\n",
    "     twist_msg.linear.y=0\n",
    "     twist_msg.angular.z = 0\n",
    "     pub.publish(twist_msg)\n",
    "    \n",
    "def click_BS(b):\n",
    "     stop()\n",
    "     twist_msg = Twist()\n",
    "     twist_msg.linear.x = 0\n",
    "     twist_msg.linear.y=0\n",
    "     twist_msg.angular.z = 0\n",
    "     pub.publish(twist_msg)\n",
    "    \n",
    "\n",
    "            \n",
    "            \n",
    "BF.on_click(click_BF)\n",
    "BR.on_click(click_BR)\n",
    "BB.on_click(click_BB)\n",
    "BL.on_click(click_BL)\n",
    "BS.on_click(click_BS)\n"
   ]
  },
  {
   "cell_type": "code",
   "execution_count": 9,
   "id": "a4f480b3",
   "metadata": {
    "ExecuteTime": {
     "end_time": "2021-06-19T15:50:46.904419Z",
     "start_time": "2021-06-19T15:50:46.747254Z"
    }
   },
   "outputs": [
    {
     "data": {
      "application/vnd.jupyter.widget-view+json": {
       "model_id": "3b1eef0261af4c86a6853b7f66e7658d",
       "version_major": 2,
       "version_minor": 0
      },
      "text/plain": [
       "GridBox(children=(Button(description='GO FORWARD', layout=Layout(grid_area='BF', width='auto'), style=ButtonSt…"
      ]
     },
     "metadata": {},
     "output_type": "display_data"
    }
   ],
   "source": [
    "widgets.GridBox(children=[BF, BB, BL, BR ,BS],\n",
    "                layout=widgets.Layout(width='80%',grid_template_rows='auto auto auto',\n",
    "                grid_template_columns='16% 16% 16% 16% 16% 16% ',\n",
    "                grid_template_areas='''\". .  . BF  . .\"\". . BL BS BR . \"\" . .  . BB . . \"''')\n",
    "               )"
   ]
  },
  {
   "cell_type": "markdown",
   "id": "610380cd",
   "metadata": {},
   "source": [
    "## Barplot visualization"
   ]
  },
  {
   "cell_type": "markdown",
   "id": "a3172be8",
   "metadata": {},
   "source": [
    "The barplot is a powerful tool, useful for visualizing both the **reached** and the **deleted goals**. As far as the `reached variabl` is concerned, it is updated each time a message gets published on ```/go_to_point/result```. Instead, the ```cancelled``` variable, is updated if the user decides to terminate the reaching goal behavior."
   ]
  },
  {
   "cell_type": "code",
   "execution_count": 10,
   "id": "fb9b2f81",
   "metadata": {
    "ExecuteTime": {
     "end_time": "2021-06-19T15:50:51.823754Z",
     "start_time": "2021-06-19T15:50:51.260337Z"
    }
   },
   "outputs": [
    {
     "data": {
      "application/vnd.jupyter.widget-view+json": {
       "model_id": "45cf54eefdb44fffb5059c5effe57779",
       "version_major": 2,
       "version_minor": 0
      },
      "text/plain": [
       "Canvas(toolbar=Toolbar(toolitems=[('Home', 'Reset original view', 'home', 'home'), ('Back', 'Back to previous …"
      ]
     },
     "metadata": {},
     "output_type": "display_data"
    },
    {
     "data": {
      "text/plain": [
       "Text(0.5, 1.0, 'Reached and cancelled targets')"
      ]
     },
     "execution_count": 10,
     "metadata": {},
     "output_type": "execute_result"
    }
   ],
   "source": [
    "f1,axis1= plt.subplots()\n",
    "\n",
    "y = (reached,cancelled)\n",
    "index = np.array(['Reached','Cancelled'])\n",
    "bar=axis1.bar(index,y,width=0.5,color='b')\n",
    "axis1.set_title('Reached and cancelled targets')"
   ]
  },
  {
   "cell_type": "markdown",
   "id": "2690342d",
   "metadata": {},
   "source": [
    "> REMARK: In both \"Barplot visualization\" and \"Histogram Visualization\", for updating data, it is necessary to click upon the `run` button for running the jupyter nootebook cell (alternatively, press `ctrl` + `enter`)"
   ]
  },
  {
   "cell_type": "markdown",
   "id": "191413f6",
   "metadata": {},
   "source": [
    "## Histogram visualization"
   ]
  },
  {
   "cell_type": "markdown",
   "id": "683cae42",
   "metadata": {},
   "source": [
    "The histogram representation is here exploited for visualizing the time employed by the robot to reach a goal. Moreover, ```start_time``` and ```stop_time``` are variables used to generate a timer useful for computing the length of each bar. To conclude with, inside the clbk of ```/go_to_point/result``` a data.append is performed, in order to continuously update the histogram, as new targets are reached."
   ]
  },
  {
   "cell_type": "code",
   "execution_count": 11,
   "id": "1712b351",
   "metadata": {
    "ExecuteTime": {
     "end_time": "2021-06-19T15:51:00.815624Z",
     "start_time": "2021-06-19T15:51:00.105487Z"
    }
   },
   "outputs": [
    {
     "data": {
      "application/vnd.jupyter.widget-view+json": {
       "model_id": "a1dbd29d682c4d24adf6e259e8aafc06",
       "version_major": 2,
       "version_minor": 0
      },
      "text/plain": [
       "Canvas(toolbar=Toolbar(toolitems=[('Home', 'Reset original view', 'home', 'home'), ('Back', 'Back to previous …"
      ]
     },
     "metadata": {},
     "output_type": "display_data"
    },
    {
     "data": {
      "text/plain": [
       "Text(0.5, 1.0, 'Mean time to reach a target')"
      ]
     },
     "execution_count": 11,
     "metadata": {},
     "output_type": "execute_result"
    }
   ],
   "source": [
    "f2,axis2=plt.subplots()\n",
    "\n",
    "X=list(range(0,len(data),1))\n",
    "bar2=axis2.bar(X,data,width=0.5,color='r')\n",
    "axis2.set_title('Mean time to reach a target')"
   ]
  },
  {
   "cell_type": "markdown",
   "id": "6e1ba634",
   "metadata": {},
   "source": [
    "## Line plots and animator\n",
    "\n",
    "For visualizing changes in data, the ```animation.FuncAnimation``` method, has been employed. Both angular and linear velocities are represented as changing lines. They are function of time, indeed their magnitude is equal to the robot current velocity."
   ]
  },
  {
   "cell_type": "markdown",
   "id": "4ac401ad",
   "metadata": {},
   "source": [
    "## Linear Velocity"
   ]
  },
  {
   "cell_type": "markdown",
   "id": "23b62f89",
   "metadata": {},
   "source": [
    "In the  figure below, it is possible to monitor the **linear velocity** subscribed by ```/odom```and``` /cmd_vel```. "
   ]
  },
  {
   "cell_type": "code",
   "execution_count": 12,
   "id": "285767db",
   "metadata": {
    "ExecuteTime": {
     "end_time": "2021-06-19T15:51:08.754945Z",
     "start_time": "2021-06-19T15:51:08.695712Z"
    }
   },
   "outputs": [],
   "source": [
    "def init1():\n",
    "    line1.set_data([], [])\n",
    "    line2.set_data([], [])\n",
    "    return [line1,line2]\n",
    "\n",
    "    "
   ]
  },
  {
   "cell_type": "code",
   "execution_count": 13,
   "id": "139015b9",
   "metadata": {
    "ExecuteTime": {
     "end_time": "2021-06-19T15:51:10.102595Z",
     "start_time": "2021-06-19T15:51:08.780094Z"
    }
   },
   "outputs": [
    {
     "data": {
      "application/vnd.jupyter.widget-view+json": {
       "model_id": "db96b8f6e56b49f282e33bfaa8872b13",
       "version_major": 2,
       "version_minor": 0
      },
      "text/plain": [
       "Canvas(toolbar=Toolbar(toolitems=[('Home', 'Reset original view', 'home', 'home'), ('Back', 'Back to previous …"
      ]
     },
     "metadata": {},
     "output_type": "display_data"
    },
    {
     "data": {
      "text/plain": [
       "<matplotlib.legend.Legend at 0x7fef3c39bbb0>"
      ]
     },
     "execution_count": 13,
     "metadata": {},
     "output_type": "execute_result"
    }
   ],
   "source": [
    "fig1, ax1 = plt.subplots()\n",
    "\n",
    "\n",
    "\n",
    "line1, = ax1.plot([], [], color ='r', label ='/odom')\n",
    "line2, = ax1.plot([], [], color ='b', label ='/cmd_vel')\n",
    "ax1.set_xlabel('time (s)') \n",
    "ax1.set_ylabel('velocity m/s')\n",
    "ax1.set_title(\"Linear velocity\")\n",
    "plt.legend(loc='upper right')"
   ]
  },
  {
   "cell_type": "code",
   "execution_count": 14,
   "id": "9848b891",
   "metadata": {
    "ExecuteTime": {
     "end_time": "2021-06-19T15:51:11.391943Z",
     "start_time": "2021-06-19T15:51:10.856271Z"
    }
   },
   "outputs": [],
   "source": [
    "def animate1(i):\n",
    "    # line values refresh\n",
    "    line1.set_data(time_plot, odom_linear)\n",
    "    line2.set_data(time_plot, cmdvel_linear)\n",
    "    ax1.axis([time_plot[0]-0.2,time_plot[9]+0.2,-0.5,0.5])    \n",
    "    # x axis updating...\n",
    "    return [line1,line2]\n",
    "\n",
    "# animator\n",
    "anim1 = animation.FuncAnimation(fig1, animate1, init_func=init1,\n",
    "                               frames=100, interval=20, blit=True)"
   ]
  },
  {
   "cell_type": "markdown",
   "id": "bebacdff",
   "metadata": {},
   "source": [
    "## Angular Velocity"
   ]
  },
  {
   "cell_type": "markdown",
   "id": "a3398f6a",
   "metadata": {},
   "source": [
    "In the  figure below, it is possible to monitor the **angular velocity** subscribed by ```/odom```and``` /cmd_vel```. \n",
    "> The same line of conduct used for the aforementioned linear velocity is here now adopted "
   ]
  },
  {
   "cell_type": "code",
   "execution_count": 15,
   "id": "9852f07f",
   "metadata": {
    "ExecuteTime": {
     "end_time": "2021-06-19T15:51:13.568397Z",
     "start_time": "2021-06-19T15:51:13.414362Z"
    }
   },
   "outputs": [],
   "source": [
    "def init2():\n",
    "    line3.set_data([], [])\n",
    "    line4.set_data([], [])\n",
    "    return [line3,line4]\n"
   ]
  },
  {
   "cell_type": "code",
   "execution_count": 16,
   "id": "ddbc79c6",
   "metadata": {
    "ExecuteTime": {
     "end_time": "2021-06-19T15:51:15.648957Z",
     "start_time": "2021-06-19T15:51:14.901831Z"
    }
   },
   "outputs": [
    {
     "data": {
      "application/vnd.jupyter.widget-view+json": {
       "model_id": "4febbf8bd79e43c7b405892d40bc06ba",
       "version_major": 2,
       "version_minor": 0
      },
      "text/plain": [
       "Canvas(toolbar=Toolbar(toolitems=[('Home', 'Reset original view', 'home', 'home'), ('Back', 'Back to previous …"
      ]
     },
     "metadata": {},
     "output_type": "display_data"
    },
    {
     "data": {
      "text/plain": [
       "<matplotlib.legend.Legend at 0x7fef3c3655b0>"
      ]
     },
     "execution_count": 16,
     "metadata": {},
     "output_type": "execute_result"
    }
   ],
   "source": [
    "fig2, ax2 = plt.subplots()\n",
    "\n",
    "\n",
    "\n",
    "line3, = ax2.plot([], [], color ='r', label ='/odom')\n",
    "line4, = ax2.plot([], [], color ='b', label ='/cmd_vel')\n",
    "ax2.set_xlabel('time (s)') \n",
    "ax2.set_ylabel('velocity rad/s')\n",
    "ax2.set_title(\"Angular velocity\")\n",
    "plt.legend(loc='upper right')"
   ]
  },
  {
   "cell_type": "code",
   "execution_count": 17,
   "id": "d5f980b2",
   "metadata": {
    "ExecuteTime": {
     "end_time": "2021-06-19T15:51:15.933640Z",
     "start_time": "2021-06-19T15:51:15.786218Z"
    }
   },
   "outputs": [],
   "source": [
    "\n",
    "def animate2(i):\n",
    "    line3.set_data(time_plot, odom_angular)\n",
    "    line4.set_data(time_plot, cmdvel_angular)\n",
    "    ax2.axis([time_plot[0]-0.2,time_plot[9]+0.2,-0.5,0.5])\n",
    "    return [line3,line4]\n",
    "\n",
    "anim2 = animation.FuncAnimation(fig2, animate2, init_func=init2,\n",
    "                               frames=100, interval=20, blit=True)"
   ]
  },
  {
   "cell_type": "markdown",
   "id": "6a8ed1d8",
   "metadata": {},
   "source": [
    "## Show Position"
   ]
  },
  {
   "cell_type": "markdown",
   "id": "49c3dba9",
   "metadata": {},
   "source": [
    "In the figure below, I iterated the same method as before, showing the position of the robot inside the environment. The values are retrieved from the ```odometry``` callback  and then they have been shown on (x,y) plane."
   ]
  },
  {
   "cell_type": "code",
   "execution_count": 18,
   "id": "cb4e10e9",
   "metadata": {
    "ExecuteTime": {
     "end_time": "2021-06-19T15:51:19.847681Z",
     "start_time": "2021-06-19T15:51:19.192857Z"
    }
   },
   "outputs": [
    {
     "data": {
      "application/vnd.jupyter.widget-view+json": {
       "model_id": "562e6ed892a2479e9fdd3c04c29b0756",
       "version_major": 2,
       "version_minor": 0
      },
      "text/plain": [
       "Canvas(toolbar=Toolbar(toolitems=[('Home', 'Reset original view', 'home', 'home'), ('Back', 'Back to previous …"
      ]
     },
     "metadata": {},
     "output_type": "display_data"
    }
   ],
   "source": [
    "fig, ax = plt.subplots()\n",
    "\n",
    "ax.set_xlim(( -5, 5))\n",
    "ax.set_ylim((-5, 5))\n",
    "ax.set_xlabel('x') \n",
    "ax.set_ylabel('y')\n",
    "ax.set_title(\"Position\")\n",
    "line, = ax.plot([], [], 'ro')\n",
    "    "
   ]
  },
  {
   "cell_type": "code",
   "execution_count": 19,
   "id": "fd3cbe68",
   "metadata": {
    "ExecuteTime": {
     "end_time": "2021-06-19T15:51:20.060007Z",
     "start_time": "2021-06-19T15:51:19.990981Z"
    }
   },
   "outputs": [],
   "source": [
    "def init():\n",
    "    line.set_data([], [])\n",
    "    return (line,)\n",
    "\n",
    "\n"
   ]
  },
  {
   "cell_type": "code",
   "execution_count": 20,
   "id": "304c24a3",
   "metadata": {
    "ExecuteTime": {
     "end_time": "2021-06-19T15:51:21.157518Z",
     "start_time": "2021-06-19T15:51:21.004326Z"
    }
   },
   "outputs": [],
   "source": [
    "def animate(i):\n",
    "    line.set_data(x_data, y_data)\n",
    "    return (line,)\n",
    "\n",
    "anim = animation.FuncAnimation(fig, animate, init_func=init,\n",
    "                               frames=100, interval=20, blit=True)"
   ]
  },
  {
   "cell_type": "markdown",
   "id": "857ad19c",
   "metadata": {},
   "source": [
    "## Show Orientation"
   ]
  },
  {
   "cell_type": "markdown",
   "id": "d6089145",
   "metadata": {},
   "source": [
    "To conclude with, the orientation of the robot could be visualized, by showing an arrow whose:\n",
    "- tail is positioned where the robot is located (inside the virtual environment)\n",
    "- orientation is the same of the robot"
   ]
  },
  {
   "cell_type": "code",
   "execution_count": 21,
   "id": "62c9323c",
   "metadata": {
    "ExecuteTime": {
     "end_time": "2021-06-19T15:51:24.093045Z",
     "start_time": "2021-06-19T15:51:23.451866Z"
    }
   },
   "outputs": [
    {
     "data": {
      "application/vnd.jupyter.widget-view+json": {
       "model_id": "ea1cd5bcb52b4e5cbe8bad27dd1f60d5",
       "version_major": 2,
       "version_minor": 0
      },
      "text/plain": [
       "Canvas(toolbar=Toolbar(toolitems=[('Home', 'Reset original view', 'home', 'home'), ('Back', 'Back to previous …"
      ]
     },
     "metadata": {},
     "output_type": "display_data"
    }
   ],
   "source": [
    "fig4, ax4 = plt.subplots()\n",
    "ax.set_xlim((-5,5))\n",
    "ax.set_ylim((-5,5))\n",
    "# Using quiver method for displaying an arrow \n",
    "ax4.quiver(0,0,dx,dy,label='Orientation')\n",
    "ax4.set_title(\"Orientation\")\n",
    "ax4.legend()\n",
    "line4, = ax.plot([], [], color='b')"
   ]
  },
  {
   "cell_type": "code",
   "execution_count": 22,
   "id": "b8f2b4ee",
   "metadata": {
    "ExecuteTime": {
     "end_time": "2021-06-19T15:51:24.376364Z",
     "start_time": "2021-06-19T15:51:24.108069Z"
    }
   },
   "outputs": [],
   "source": [
    "def init4():\n",
    "    global dx, dy\n",
    "    ax4.quiver(0,0,dx,dy,label='Orientation')\n",
    "    return (line4,)\n",
    "\n",
    "def animate4(i):\n",
    "    global x_data, y_data, dx, dy\n",
    "    ax4.clear()\n",
    "    ax4.quiver(x_data[49],y_data[49],dx,dy,label='Orientation')\n",
    "    ax4.legend()\n",
    "    ax4.set_title(\"Orientation\")\n",
    "    return (line4,)\n",
    "\n",
    "anim4=animation.FuncAnimation(fig4, animate4, init_func=init4, frames=1, interval=100, blit=True)"
   ]
  },
  {
   "cell_type": "code",
   "execution_count": null,
   "id": "1f0e5e75",
   "metadata": {},
   "outputs": [],
   "source": []
  }
 ],
 "metadata": {
  "kernelspec": {
   "display_name": "Python 3",
   "language": "python",
   "name": "python3"
  },
  "language_info": {
   "codemirror_mode": {
    "name": "ipython",
    "version": 3
   },
   "file_extension": ".py",
   "mimetype": "text/x-python",
   "name": "python",
   "nbconvert_exporter": "python",
   "pygments_lexer": "ipython3",
   "version": "3.8.5"
  }
 },
 "nbformat": 4,
 "nbformat_minor": 5
}
