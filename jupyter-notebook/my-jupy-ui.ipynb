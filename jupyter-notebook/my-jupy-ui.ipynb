{
 "cells": [
  {
   "cell_type": "markdown",
   "id": "0bf5a03e",
   "metadata": {},
   "source": [
    "# Second Assignment of RTII course"
   ]
  },
  {
   "cell_type": "markdown",
   "id": "5eb41676",
   "metadata": {},
   "source": [
    "## User Interface node"
   ]
  },
  {
   "cell_type": "markdown",
   "id": "6e74b0e5",
   "metadata": {},
   "source": [
    "In this Jupyter notebook I have implemented a user interface useful to control the behavior of a robot, within  a simulated environment. Moreover the  node communicates with three different nodes:\n",
    "\n",
    "1. nodes go_to_point.py \n",
    "2. state_machine.cpp \n",
    "3. position_service.cpp \n",
    "\n",
    "They all are available within the **action** branch belonging to the package rt2_assignment1 \n",
    "Inside this notebook, different widgets and visualization methods have been employed to directly interact  with the robot simulation launched within Gazebo.\n"
   ]
  },
  {
   "cell_type": "markdown",
   "id": "c5690095",
   "metadata": {},
   "source": [
    "## How to run the code"
   ]
  },
  {
   "cell_type": "markdown",
   "id": "6aa34608",
   "metadata": {},
   "source": [
    "Within a new shell, please type:\n",
    "\n",
    "roslaunch rt2_assignment1 jupisim.launch\n",
    "\n",
    "Then open this jupiter notebook by running:\n",
    "\n",
    "jupyter notebook --allow-root --ip 0.0.0.0\n",
    "\n",
    "\n"
   ]
  },
  {
   "cell_type": "markdown",
   "id": "e9a73556",
   "metadata": {},
   "source": [
    "Here Below, needed headers are imported and global variables are initialized "
   ]
  },
  {
   "cell_type": "code",
   "execution_count": null,
   "id": "379617f6",
   "metadata": {
    "ExecuteTime": {
     "end_time": "2021-06-13T23:38:10.308326Z",
     "start_time": "2021-06-13T23:37:57.760396Z"
    }
   },
   "outputs": [],
   "source": [
    "\n",
    "from ipywidgets import Button, Layout, ButtonStyle, GridBox, VBox, HBox\n",
    "import numpy as np\n",
    "import matplotlib.pyplot as plt\n",
    "import jupyros as jr\n",
    "import rospy\n",
    "import time\n",
    "import math\n",
    "from rt2_assignment1.srv import Command\n",
    "import actionlib\n",
    "import rt2_assignment1.msg\n",
    "from geometry_msgs.msg import Twist\n",
    "from matplotlib import animation, rc\n",
    "import ipywidgets as widgets\n",
    "from IPython.display import display\n",
    "from matplotlib import animation, rc\n",
    "from matplotlib.animation import FuncAnimation\n",
    "from nav_msgs.msg import Odometry\n",
    "from rt2_assignment1.msg import GoalReachingActionResult\n",
    "%matplotlib widget\n",
    "\n",
    "# initializing the node \n",
    "rospy.init_node('user_interface')\n",
    "# user_interface client for starting the  \"go to point behaviour\"\n",
    "ui_client = rospy.ServiceProxy('/user_interface', Command)\n",
    "# action client to cancel the action goal\n",
    "client = actionlib.SimpleActionClient('go_to_point', rt2_assignment1.msg.GoalReachingAction)\n",
    "# declaring a publisher of /cmd_vel topic for controlling the robot's velocity\n",
    "pub=rospy.Publisher('/cmd_vel', Twist, queue_size=1)\n",
    "time.sleep(10)\n",
    "\n",
    "# global variables initialisation\n",
    "cancelled=0 \n",
    "reached=0 \n",
    "active=False\n",
    "start_time=0\n",
    "stop_time=0\n",
    "data = list()\n",
    "\n",
    "\n"
   ]
  },
  {
   "cell_type": "markdown",
   "id": "bf066165",
   "metadata": {},
   "source": [
    "## Reaching goal behavior "
   ]
  },
  {
   "cell_type": "markdown",
   "id": "e7089749",
   "metadata": {},
   "source": [
    "```go_to_point``` behavior can be activated and deactivated by user clicking on START or STOP button. According to the```on_click``` method, each time a button is clicked, the clbk is executed. \n",
    "For this reason the service client is called inside the callback of the start button. On the other hand, inside the callback of the stop button, the robot is at first stopped publishing a zero velocity on ```/cmd_vel```. Then action client is called so that all the goals could be cancelled "
   ]
  },
  {
   "cell_type": "code",
   "execution_count": null,
   "id": "32c439cc",
   "metadata": {
    "ExecuteTime": {
     "end_time": "2021-06-13T23:38:10.383816Z",
     "start_time": "2021-06-13T23:38:10.314092Z"
    }
   },
   "outputs": [],
   "source": [
    "\n",
    "button_start = widgets.Button(description=\"START\",layout=widgets.Layout(widht='auto',grid_area='b1'),\n",
    "                style=widgets.ButtonStyle(button_color='green') )\n",
    "\n",
    "button_stop = widgets.Button(description=\"STOP\",  layout=widgets.Layout(width='auto', grid_area='b2'),\n",
    "                    style=widgets.ButtonStyle(button_color='red'))\n",
    "\n",
    "\n",
    "\n",
    "def clicked_start(b): \n",
    "     global start_time\n",
    "     global active\n",
    "     global count\n",
    "     #call the service client\n",
    "     ui_client(\"start\")      \n",
    "     active=True\n",
    "     take=False\n",
    "     start_time=time.time()\n",
    "     \n",
    "     \n",
    "        \n",
    "def clicked_stop(b):\n",
    "     global cancelled\n",
    "     global stop_time\n",
    "     global active\n",
    "     global data\n",
    "     # call the action client\n",
    "     client.cancel_all_goals()\n",
    "     twist_msg = Twist()\n",
    "     twist_msg.linear.x = 0\n",
    "     twist_msg.linear.y = 0\n",
    "     twist_msg.angular.z = 0\n",
    "     #publish a zero velocity\n",
    "     pub.publish(twist_msg)\n",
    "     ui_client(\"stop\")\n",
    "     if active==True:\n",
    "         cancelled = cancelled + 1 \n",
    "         active=False\n",
    "         stop_time=time.time()\n",
    "         data.append(stop_time-start_time)\n",
    " \n",
    "# on click method\n",
    "\n",
    "button_start.on_click(clicked_start)\n",
    "button_stop.on_click(clicked_stop)"
   ]
  },
  {
   "cell_type": "code",
   "execution_count": null,
   "id": "ca532922",
   "metadata": {
    "ExecuteTime": {
     "end_time": "2021-06-13T23:43:41.337425Z",
     "start_time": "2021-06-13T23:43:41.312768Z"
    }
   },
   "outputs": [],
   "source": [
    "# GridBox is used for displaying buttons \n",
    "widgets.GridBox(children=[button_start,button_stop],\n",
    "                layout=widgets.Layout(width='80%',grid_template_rows='auto auto auto',\n",
    "                grid_template_columns='16% 16% 16% 16% 16% 16% ',\n",
    "                grid_template_areas='''\"b1 b2 . . . \"''')\n",
    "               )"
   ]
  },
  {
   "cell_type": "markdown",
   "id": "da1940e7",
   "metadata": {},
   "source": [
    "The callback of  ```/go_to_point/result``` subscriber, is executed only once a goal is reached. \n",
    "Then some variables exploited for visualization purposes are updated"
   ]
  },
  {
   "cell_type": "code",
   "execution_count": null,
   "id": "dd60b2df",
   "metadata": {
    "ExecuteTime": {
     "end_time": "2021-06-13T23:38:10.462055Z",
     "start_time": "2021-06-13T23:38:10.388804Z"
    }
   },
   "outputs": [],
   "source": [
    "def reached_goal_clb(msg):\n",
    "  global reached\n",
    "  global start_time,stop_time\n",
    "  global data \n",
    "  stop_time=time.time()\n",
    "  data.append(stop_time-start_time)\n",
    "  start_time=time.time()\n",
    "  reached = reached+1\n",
    "  \n",
    "\n",
    "jr.subscribe('/go_to_point/result',GoalReachingActionResult, reached_goal_clb)"
   ]
  },
  {
   "cell_type": "markdown",
   "id": "09361849",
   "metadata": {},
   "source": [
    "## Set velocity through sliders"
   ]
  },
  {
   "cell_type": "markdown",
   "id": "61fdcfc5",
   "metadata": {},
   "source": [
    "Here below are inserted two **sliders**. The user can chose a linear or angular velocity between -1 and 1. Then, the chosen value is directly published on ```/cmd_vel```, soo that the robot could be piloted "
   ]
  },
  {
   "cell_type": "code",
   "execution_count": null,
   "id": "4cc0cd4d",
   "metadata": {
    "ExecuteTime": {
     "end_time": "2021-06-13T23:47:25.590488Z",
     "start_time": "2021-06-13T23:47:25.520742Z"
    }
   },
   "outputs": [],
   "source": [
    "msg = Twist()\n",
    "\n",
    "a = widgets.FloatSlider(description='Linear Velocity' ,min=-1.0, max=1.0)\n",
    "a.style.handle_color = 'salmon'\n",
    "display(a)\n",
    "\n",
    "b = widgets.FloatSlider(description='Angular Velocity',min=-1.0, max=1.0)\n",
    "b.style.handle_color = 'salmon'\n",
    "display(b)\n",
    "\n",
    "\n",
    "def on_value_change(change):\n",
    "    global msg\n",
    "    msg.linear.x = change['new']\n",
    "    pub.publish(msg)\n",
    "    \n",
    "def on_valueang_change(change):\n",
    "    global msg\n",
    "    msg.angular.z = change['new']\n",
    "    pub.publish(msg)\n",
    "\n",
    "a.observe(on_value_change, names='value')\n",
    "b.observe(on_valueang_change, names='value')"
   ]
  },
  {
   "cell_type": "markdown",
   "id": "ea0e2fc4",
   "metadata": {},
   "source": [
    "## Pilot the robot"
   ]
  },
  {
   "cell_type": "markdown",
   "id": "ea479f2c",
   "metadata": {},
   "source": [
    "The user will be able to control the robot through the five buttons reported below. Then, Inside the buttons clbk:\n",
    "1. stop function is called for stopping the ```go_to_point``` behavior, and **cancel** goals if any. \n",
    "2. for each button specific Twist message is published, according to user's preferences "
   ]
  },
  {
   "cell_type": "code",
   "execution_count": null,
   "id": "40316ff0",
   "metadata": {
    "ExecuteTime": {
     "end_time": "2021-06-13T23:38:16.369016Z",
     "start_time": "2021-06-13T23:38:16.238415Z"
    }
   },
   "outputs": [],
   "source": [
    "\n",
    "BF = widgets.Button(description=\"GO FORWARD\",layout=Layout(width='auto', grid_area='BF'),\n",
    "style=ButtonStyle(button_color='yellow'))\n",
    "\n",
    "BL = widgets.Button(description=\"TURN LEFT\",layout=Layout(width='auto', grid_area='BL'),\n",
    "style=ButtonStyle(button_color='yellow'))\n",
    "\n",
    "BB = widgets.Button(description=\"GO BACKWARD\",layout=Layout(width='auto', grid_area='BB'),\n",
    "style=ButtonStyle(button_color='yellow'))\n",
    "\n",
    "BR = widgets.Button(description=\"TURN RIGHT\",layout=Layout(width='auto', grid_area='BR'),\n",
    "style=ButtonStyle(button_color='yellow'))\n",
    "\n",
    "BS = widgets.Button(description=\"STOP\",layout=Layout(width='auto', grid_area='BS'),\n",
    "style=ButtonStyle(button_color='red'))\n",
    "\n",
    "\n",
    "\n",
    "def stop():\n",
    "     global cancelled\n",
    "     global stop_time\n",
    "     global active\n",
    "     global data\n",
    "     client.cancel_all_goals()\n",
    "     twist_msg = Twist()\n",
    "     twist_msg.linear.x = 0\n",
    "     twist_msg.linear.y = 0\n",
    "     twist_msg.angular.z = 0\n",
    "     pub.publish(twist_msg)\n",
    "     ui_client(\"stop\")\n",
    "     if active==True:\n",
    "         cancelled = cancelled + 1 \n",
    "         active=False\n",
    "         stop_time=time.time()\n",
    "         data.append(stop_time-start_time)\n",
    "        \n",
    "def click_BF(f):\n",
    "     stop()\n",
    "     twist_msg = Twist()\n",
    "     twist_msg.linear.x = 1\n",
    "     twist_msg.linear.y=0\n",
    "     twist_msg.angular.z = 0\n",
    "     pub.publish(twist_msg)\n",
    "        \n",
    "def click_BL(f):\n",
    "     stop()\n",
    "     twist_msg = Twist()\n",
    "     twist_msg.linear.x = 0\n",
    "     twist_msg.linear.y=0\n",
    "     twist_msg.angular.z = 1\n",
    "     pub.publish(twist_msg)\n",
    "        \n",
    "def click_BR(f):\n",
    "     stop()\n",
    "     twist_msg = Twist()\n",
    "     twist_msg.linear.x = 0\n",
    "     twist_msg.linear.y=0\n",
    "     twist_msg.angular.z = -1\n",
    "     pub.publish(twist_msg)\n",
    "        \n",
    "def click_BB(f):\n",
    "     stop()\n",
    "     twist_msg = Twist()\n",
    "     twist_msg.linear.x = -1\n",
    "     twist_msg.linear.y=0\n",
    "     twist_msg.angular.z = 0\n",
    "     pub.publish(twist_msg)\n",
    "    \n",
    "def click_BS(b):\n",
    "     stop()\n",
    "     twist_msg = Twist()\n",
    "     twist_msg.linear.x = 0\n",
    "     twist_msg.linear.y=0\n",
    "     twist_msg.angular.z = 0\n",
    "     pub.publish(twist_msg)\n",
    "    \n",
    "\n",
    "            \n",
    "            \n",
    "BF.on_click(click_BF)\n",
    "BR.on_click(click_BR)\n",
    "BB.on_click(click_BB)\n",
    "BL.on_click(click_BL)\n",
    "BS.on_click(click_BS)\n"
   ]
  },
  {
   "cell_type": "code",
   "execution_count": null,
   "id": "a4f480b3",
   "metadata": {
    "ExecuteTime": {
     "end_time": "2021-06-13T23:51:39.825905Z",
     "start_time": "2021-06-13T23:51:39.771378Z"
    }
   },
   "outputs": [],
   "source": [
    "widgets.GridBox(children=[BF, BB, BL, BR ,BS],\n",
    "                layout=widgets.Layout(width='80%',grid_template_rows='auto auto auto',\n",
    "                grid_template_columns='16% 16% 16% 16% 16% 16% ',\n",
    "                grid_template_areas='''\". .  . BF  . .\"\". . BL BS BR . \"\" . .  . BB . . \"''')\n",
    "               )"
   ]
  },
  {
   "cell_type": "markdown",
   "id": "610380cd",
   "metadata": {},
   "source": [
    "## Barplot visualization"
   ]
  },
  {
   "cell_type": "markdown",
   "id": "a3172be8",
   "metadata": {},
   "source": [
    "The barplot is a powerful tool, useful for visualizing the **reached** and the **deleted goals**. As far as the reached variable is concerned, it is updated each time a message gets published on ```/go_to_point/result```. Instead, the ```cancelled``` variable, is updated if the user decides to terminate the reaching goal behavior."
   ]
  },
  {
   "cell_type": "code",
   "execution_count": null,
   "id": "fb9b2f81",
   "metadata": {
    "ExecuteTime": {
     "end_time": "2021-06-13T22:38:44.427388Z",
     "start_time": "2021-06-13T22:38:44.378323Z"
    }
   },
   "outputs": [],
   "source": [
    "y = (reached,cancelled)\n",
    "index = np.arange(2)\n",
    "\n",
    "f1,axis2= plt.bar(index,y,width=0.5,color='r')\n",
    "plt.ylabel('Values')\n",
    "plt.title('Targets')\n",
    "plt.xticks(index, ('reached', 'cancelled'))\n",
    "plt.show()"
   ]
  },
  {
   "cell_type": "markdown",
   "id": "191413f6",
   "metadata": {},
   "source": [
    "## Histogram visualization"
   ]
  },
  {
   "cell_type": "markdown",
   "id": "683cae42",
   "metadata": {},
   "source": [
    "The histogram representation is here exploited for visualizing the time employed by the robot to reach a goal. Moreover, ```start_time``` and ```stop_time``` are variables used to generate a timer useful for computing the length of each bar. To conclude with, inside the clbk of ```/go_to_point/result``` a data.append is performed, in order to continuously update the histogram, as new targets are reached."
   ]
  },
  {
   "cell_type": "code",
   "execution_count": null,
   "id": "1712b351",
   "metadata": {
    "ExecuteTime": {
     "end_time": "2021-06-12T21:33:50.759621Z",
     "start_time": "2021-06-12T21:33:50.712164Z"
    }
   },
   "outputs": [],
   "source": [
    "X=list(range(0,len(data),1))\n",
    "fig2=plt.subplot(111)\n",
    "plt.bar(X,data,width=0.5,color='b')\n",
    "plt.ylabel('time (s)')\n",
    "plt.title('Mean time to reach a target')\n",
    "plt.show()"
   ]
  },
  {
   "cell_type": "markdown",
   "id": "6e1ba634",
   "metadata": {},
   "source": [
    "## Line plots and animator"
   ]
  },
  {
   "cell_type": "markdown",
   "id": "2690342d",
   "metadata": {},
   "source": [
    "For visualizing changes in data, the ```animation.FuncAnimation``` method, has been employed.\n",
    "Here below, it is evident that Data continuously asking for subscribtion inside ```cmd_vel``` and ```odom clbk``` was updated and inserted in different arrays. \n",
    "> Every time the notebook ```Run``` button is clicked, the Figure gets refreshed inside the callback of the animator."
   ]
  },
  {
   "cell_type": "markdown",
   "id": "4ac401ad",
   "metadata": {},
   "source": [
    "## Linear Velocity"
   ]
  },
  {
   "cell_type": "markdown",
   "id": "3eb7c684",
   "metadata": {},
   "source": [
    "In the figure below, it is possible to visualize the linear velocity subscribed by ```/odom``` and ```/cmd_vel```. "
   ]
  },
  {
   "cell_type": "code",
   "execution_count": null,
   "id": "ac788deb",
   "metadata": {
    "ExecuteTime": {
     "end_time": "2021-06-12T21:07:45.388770Z",
     "start_time": "2021-06-12T21:07:45.384117Z"
    }
   },
   "outputs": [],
   "source": [
    "\n",
    "c1 = time.time() #offset of timer \n",
    "time1 = list(range(0, 10))\n",
    "odom_linear =list()\n",
    "cmdvel_linear=list()"
   ]
  },
  {
   "cell_type": "code",
   "execution_count": null,
   "id": "285767db",
   "metadata": {
    "ExecuteTime": {
     "end_time": "2021-06-12T21:07:46.704020Z",
     "start_time": "2021-06-12T21:07:46.656394Z"
    }
   },
   "outputs": [],
   "source": [
    "def init1():\n",
    "    line1.set_data([], [])\n",
    "    line2.set_data([], [])\n",
    "    return [line1,line2]\n",
    "\n",
    "#odom clbk\n",
    "def clb_odom1(msg):\n",
    "    if len(time1)>10:\n",
    "      time1.pop(0)\n",
    "     \n",
    "    if len(odom_linear)>10:\n",
    "      odom_linear.pop(0)\n",
    "    ip = np.float32(msg.twist.twist.linear.x)\n",
    "    iy = np.float32(time.time()-c1)\n",
    "    #data update\n",
    "    odom_linear.append(iy)\n",
    "    time1.append(ix)\n",
    "    \n",
    "   \n",
    "\n",
    "jr.subscribe('/odom',Odometry, clb_odom1)\n",
    "    "
   ]
  },
  {
   "cell_type": "markdown",
   "id": "8c481590",
   "metadata": {},
   "source": [
    "> Remark: subscribers have been put in separate cells for avoiding conflicts (i.e overwriting)"
   ]
  },
  {
   "cell_type": "code",
   "execution_count": null,
   "id": "166e798f",
   "metadata": {
    "ExecuteTime": {
     "end_time": "2021-06-12T21:07:48.227370Z",
     "start_time": "2021-06-12T21:07:48.148641Z"
    }
   },
   "outputs": [],
   "source": [
    "def clb_cmdvel1(msg):\n",
    "    if len(cmdvel_linear)>10:\n",
    "      cmdvel_linear.pop(0)\n",
    "    iy = np.float32(msg.linear.x)\n",
    "    cmdvel_linear.append(iy)\n",
    "    \n",
    "\n",
    "jr.subscribe('/cmd_vel', Twist, clb_cmdvel1)"
   ]
  },
  {
   "cell_type": "code",
   "execution_count": null,
   "id": "139015b9",
   "metadata": {
    "ExecuteTime": {
     "end_time": "2021-06-12T21:07:49.115501Z",
     "start_time": "2021-06-12T21:07:49.035602Z"
    }
   },
   "outputs": [],
   "source": [
    "fig1, ax1 = plt.subplots()\n",
    "\n",
    "\n",
    "\n",
    "line1, = ax1.plot([], [], color ='r', label ='/odom')\n",
    "line2, = ax1.plot([], [], color ='b', label ='/cmd_vel')\n",
    "ax1.set_xlabel('time (s)') \n",
    "ax1.set_ylabel('velocity m/s')\n",
    "ax1.set_title(\"Linear velocity\")\n",
    "plt.legend(loc='upper right')"
   ]
  },
  {
   "cell_type": "code",
   "execution_count": null,
   "id": "9848b891",
   "metadata": {
    "ExecuteTime": {
     "end_time": "2021-06-12T21:07:55.119734Z",
     "start_time": "2021-06-12T21:07:55.113586Z"
    }
   },
   "outputs": [],
   "source": [
    "def animate1(i):\n",
    "    #refresh of line\n",
    "    line1.set_data(time1, odom_linear)\n",
    "    line2.set_data(time1, cmdvel_linear)\n",
    "    ax1.axis([time1[0]-0.2,time1[9]+0.2,-0.5,0.5])    \n",
    "    return [line1,line2]\n",
    "\n",
    "#animator\n",
    "anim1 = animation.FuncAnimation(fig1, animate1, init_func=init1,\n",
    "                               frames=100, interval=20, blit=True)"
   ]
  },
  {
   "cell_type": "markdown",
   "id": "bebacdff",
   "metadata": {},
   "source": [
    "## Angular Velocity"
   ]
  },
  {
   "cell_type": "markdown",
   "id": "a3398f6a",
   "metadata": {},
   "source": [
    "In the  figure below, it is possible to monitor the **angular velocity** subscribed by ```/odom```and``` /cmd_vel```. \n",
    "> The same line of conduct used for the aforementioned linear velocity is here now adopted "
   ]
  },
  {
   "cell_type": "code",
   "execution_count": null,
   "id": "bd573278",
   "metadata": {
    "ExecuteTime": {
     "end_time": "2021-06-12T21:08:22.479123Z",
     "start_time": "2021-06-12T21:08:22.473110Z"
    }
   },
   "outputs": [],
   "source": [
    "clock2 = time.time() \n",
    "time2 = list(range(0, 10))\n",
    "odom_angular =list()\n",
    "cmdvel_angular=list()"
   ]
  },
  {
   "cell_type": "code",
   "execution_count": null,
   "id": "9852f07f",
   "metadata": {
    "ExecuteTime": {
     "end_time": "2021-06-12T21:08:24.060071Z",
     "start_time": "2021-06-12T21:08:24.003073Z"
    }
   },
   "outputs": [],
   "source": [
    "def init2():\n",
    "    line3.set_data([], [])\n",
    "    line4.set_data([], [])\n",
    "    return [line3,line4]\n",
    "\n",
    "def clb_odom2(msg):\n",
    "    if len(time2)>10:\n",
    "      time2.pop(0)\n",
    "     \n",
    "    if len(odom_angular)>10:\n",
    "      odom_angular.pop(0)\n",
    "    iupsilon = np.float32(msg.twist.twist.angular.z)\n",
    "    ix = np.float32(time.time()-clock2)\n",
    "    odom_angular.append(iupsilon)\n",
    "    time2.append(ix)\n",
    "    \n",
    "   \n",
    "\n",
    "jr.subscribe('/odom',Odometry, clb_odom2)"
   ]
  },
  {
   "cell_type": "code",
   "execution_count": null,
   "id": "bd468a2c",
   "metadata": {
    "ExecuteTime": {
     "end_time": "2021-06-12T21:08:25.443515Z",
     "start_time": "2021-06-12T21:08:25.384568Z"
    }
   },
   "outputs": [],
   "source": [
    "def clb_cmdvel2(msg):\n",
    "    if len(cmdvel_angular)>10:\n",
    "      cmdvel_angular.pop(0)\n",
    "    iupsilon = np.float32(msg.angular.z)\n",
    "    cmdvel_angular.append(iupsilon)\n",
    "    \n",
    "\n",
    "jr.subscribe('/cmd_vel', Twist, clb_cmdvel2)"
   ]
  },
  {
   "cell_type": "code",
   "execution_count": null,
   "id": "ddbc79c6",
   "metadata": {
    "ExecuteTime": {
     "end_time": "2021-06-12T21:08:26.935427Z",
     "start_time": "2021-06-12T21:08:26.855856Z"
    }
   },
   "outputs": [],
   "source": [
    "fig2, ax2 = plt.subplots()\n",
    "\n",
    "\n",
    "\n",
    "line3, = ax2.plot([], [], color ='r', label ='/odom')\n",
    "line4, = ax2.plot([], [], color ='b', label ='/cmd_vel')\n",
    "ax2.set_xlabel('time (s)') \n",
    "ax2.set_ylabel('velocity rad/s')\n",
    "ax2.set_title(\"Angular velocity\")\n",
    "plt.legend(loc='upper right')"
   ]
  },
  {
   "cell_type": "code",
   "execution_count": null,
   "id": "d5f980b2",
   "metadata": {
    "ExecuteTime": {
     "end_time": "2021-06-12T21:08:28.218968Z",
     "start_time": "2021-06-12T21:08:28.212234Z"
    }
   },
   "outputs": [],
   "source": [
    "\n",
    "def animate2(i):\n",
    "    line3.set_data(time2, odom_angular)\n",
    "    line4.set_data(time2, cmdvel_angular)\n",
    "    ax2.axis([time2[0]-0.2,time2[9]+0.2,-0.5,0.5])\n",
    "    return [line3,line4]\n",
    "\n",
    "anim2 = animation.FuncAnimation(fig2, animate2, init_func=init2,\n",
    "                               frames=100, interval=20, blit=True)"
   ]
  },
  {
   "cell_type": "markdown",
   "id": "6a8ed1d8",
   "metadata": {},
   "source": [
    "## Show Position"
   ]
  },
  {
   "cell_type": "markdown",
   "id": "49c3dba9",
   "metadata": {},
   "source": [
    "In the figure below, I iterated the same method as before, showing the position of the robot inside the environment. The values are retrieved from the ```odometry``` callback  and then they have been shown on (x,y) plane."
   ]
  },
  {
   "cell_type": "code",
   "execution_count": null,
   "id": "63a9b4ee",
   "metadata": {
    "ExecuteTime": {
     "end_time": "2021-06-13T23:01:24.924418Z",
     "start_time": "2021-06-13T23:01:24.917201Z"
    }
   },
   "outputs": [],
   "source": [
    "x_data=list()\n",
    "y_data=list()"
   ]
  },
  {
   "cell_type": "code",
   "execution_count": null,
   "id": "cb4e10e9",
   "metadata": {
    "ExecuteTime": {
     "end_time": "2021-06-13T23:01:25.985864Z",
     "start_time": "2021-06-13T23:01:25.879883Z"
    }
   },
   "outputs": [],
   "source": [
    "fig, ax = plt.subplots()\n",
    "\n",
    "ax.set_xlim(( -5, 5))\n",
    "ax.set_ylim((-5, 5))\n",
    "ax.set_xlabel('x') \n",
    "ax.set_ylabel('y')\n",
    "ax.set_title(\"Position\")\n",
    "line, = ax.plot([], [], 'ro')\n",
    "    "
   ]
  },
  {
   "cell_type": "code",
   "execution_count": null,
   "id": "fd3cbe68",
   "metadata": {
    "ExecuteTime": {
     "end_time": "2021-06-13T23:01:28.049258Z",
     "start_time": "2021-06-13T23:01:27.928158Z"
    }
   },
   "outputs": [],
   "source": [
    "def init():\n",
    "    line.set_data([], [])\n",
    "    return (line,)\n",
    "\n",
    "\n",
    "    \n",
    "def odom_callback(msg):\n",
    "    if len(x_data)>50:\n",
    "      x_data.pop(0)\n",
    "      \n",
    "    if len(y_data)>50:\n",
    "      y_data.pop(0)\n",
    "    \n",
    "    iupsilon = np.float32(msg.pose.pose.position.y)\n",
    "    ix = np.float32(msg.pose.pose.position.x)\n",
    "    y_data.append(iupsilon)\n",
    "    x_data.append(ix)\n",
    "    \n",
    "\n",
    "    \n",
    "\n",
    "\n",
    "\n",
    "jr.subscribe('/odom', Odometry, odom_callback)\n",
    "\n"
   ]
  },
  {
   "cell_type": "code",
   "execution_count": null,
   "id": "304c24a3",
   "metadata": {
    "ExecuteTime": {
     "end_time": "2021-06-13T23:01:32.188134Z",
     "start_time": "2021-06-13T23:01:32.182984Z"
    }
   },
   "outputs": [],
   "source": [
    "def animate(i):\n",
    "    line.set_data(x_data, y_data)\n",
    "    return (line,)\n",
    "\n",
    "anim = animation.FuncAnimation(fig, animate, init_func=init,\n",
    "                               frames=100, interval=20, blit=True)"
   ]
  },
  {
   "cell_type": "markdown",
   "id": "857ad19c",
   "metadata": {},
   "source": [
    "## Show Orientation"
   ]
  },
  {
   "cell_type": "markdown",
   "id": "d6089145",
   "metadata": {},
   "source": [
    "To conclude with, the orientation of the robot could be visualized, by showing an arrow whose:\n",
    "- tail is positioned where the robot is located (inside the virtual environment)\n",
    "- orientation is the same of the robot"
   ]
  },
  {
   "cell_type": "code",
   "execution_count": null,
   "id": "62c9323c",
   "metadata": {
    "ExecuteTime": {
     "end_time": "2021-06-13T23:01:35.930288Z",
     "start_time": "2021-06-13T23:01:35.788298Z"
    }
   },
   "outputs": [],
   "source": [
    "fig4, ax4 = plt.subplots()\n",
    "\n",
    "ax4.quiver(0,0,dx,dy,label='Orientation')\n",
    "ax4.set_title(\"Orientation\")\n",
    "ax4.legend()\n",
    "line4, = ax.plot([], [], 'ro')"
   ]
  },
  {
   "cell_type": "code",
   "execution_count": null,
   "id": "b8f2b4ee",
   "metadata": {
    "ExecuteTime": {
     "end_time": "2021-06-13T23:01:51.443036Z",
     "start_time": "2021-06-13T23:01:51.418092Z"
    }
   },
   "outputs": [],
   "source": [
    "def init4():\n",
    "    ax4.arrow(0,0,dx,dy,label='Orientation')\n",
    "    return (line4,)\n",
    "\n",
    "def animate4(i):\n",
    "    ax4.clear()\n",
    "    ax4.quiver(x_data[48],y_data[48],x_data[49]-x_data[48],y_data[49]-y_data[48],label='Orientation')\n",
    "    ax4.legend()\n",
    "    ax4.set_title(\"Orientation\")\n",
    "    return (line4,)\n",
    "\n",
    "anim4=animation.FuncAnimation(fig4, animate4, init_func=init4, frames=1, interval=100, blit=True)"
   ]
  },
  {
   "cell_type": "code",
   "execution_count": null,
   "id": "1f0e5e75",
   "metadata": {},
   "outputs": [],
   "source": []
  }
 ],
 "metadata": {
  "kernelspec": {
   "display_name": "Python 3",
   "language": "python",
   "name": "python3"
  },
  "language_info": {
   "codemirror_mode": {
    "name": "ipython",
    "version": 3
   },
   "file_extension": ".py",
   "mimetype": "text/x-python",
   "name": "python",
   "nbconvert_exporter": "python",
   "pygments_lexer": "ipython3",
   "version": "3.8.5"
  }
 },
 "nbformat": 4,
 "nbformat_minor": 5
}
